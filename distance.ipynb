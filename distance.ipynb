{
 "cells": [
  {
   "cell_type": "code",
   "execution_count": 1,
   "metadata": {
    "collapsed": true
   },
   "outputs": [],
   "source": [
    "import pandas as pd\n",
    "from math import sin, cos, sqrt, atan2, radians\n",
    "import random"
   ]
  },
  {
   "cell_type": "code",
   "execution_count": 2,
   "metadata": {
    "collapsed": true
   },
   "outputs": [],
   "source": [
    "def distance(lat1, lon1, lat2, lon2):\n",
    "\n",
    "    # approximate radius of earth in km\n",
    "    R = 6373.0\n",
    "\n",
    "    lat1 = radians(lat1)\n",
    "    lon1 = radians(lon1)\n",
    "    lat2 = radians(lat2)\n",
    "    lon2 = radians(lon2)\n",
    "\n",
    "    dlon = lon2 - lon1\n",
    "    dlat = lat2 - lat1\n",
    "\n",
    "    a = sin(dlat / 2)**2 + cos(lat1) * cos(lat2) * sin(dlon / 2)**2\n",
    "    c = 2 * atan2(sqrt(a), sqrt(1 - a))\n",
    "\n",
    "    distance = R * c\n",
    "    \n",
    "    return distance"
   ]
  },
  {
   "cell_type": "code",
   "execution_count": 3,
   "metadata": {
    "collapsed": true
   },
   "outputs": [],
   "source": [
    "df = pd.read_csv('splitdata1.csv')"
   ]
  },
  {
   "cell_type": "code",
   "execution_count": 4,
   "metadata": {
    "collapsed": true
   },
   "outputs": [],
   "source": [
    "df['dist1'] = df.apply(lambda row: distance(row['host_lat'], row['host_long'], row['team1_lat'], row['team1_long']), axis=1)\n",
    "df['dist2'] = df.apply(lambda row: distance(row['host_lat'], row['host_long'], row['team2_lat'], row['team2_long']), axis=1)"
   ]
  },
  {
   "cell_type": "code",
   "execution_count": 5,
   "metadata": {
    "collapsed": true
   },
   "outputs": [],
   "source": [
    "df['diff_dist'] = df['dist1'] - df['dist2']"
   ]
  },
  {
   "cell_type": "code",
   "execution_count": 6,
   "metadata": {},
   "outputs": [
    {
     "name": "stdout",
     "output_type": "stream",
     "text": [
      "0        -88.820532\n",
      "1       -697.542289\n",
      "2       2148.977013\n",
      "3        -39.535171\n",
      "4      -1066.404958\n",
      "5         86.503358\n",
      "6      -1225.044975\n",
      "7       -188.531760\n",
      "8       -481.844225\n",
      "9         51.076129\n",
      "10      3062.122343\n",
      "11      -962.699340\n",
      "12      -359.530131\n",
      "13       371.997656\n",
      "14      -493.850062\n",
      "15      -617.961219\n",
      "16     -2193.143508\n",
      "17      2368.810311\n",
      "18       792.863432\n",
      "19      -262.994632\n",
      "20     -2996.751484\n",
      "21       144.138498\n",
      "22     -1037.403429\n",
      "23     -3617.543984\n",
      "24      -479.349948\n",
      "25      -324.921925\n",
      "26       -34.854154\n",
      "27      2277.698464\n",
      "28      1050.262082\n",
      "29       292.547903\n",
      "           ...     \n",
      "2052    2194.801563\n",
      "2053     889.928413\n",
      "2054     695.199395\n",
      "2055    -368.971580\n",
      "2056    -406.831514\n",
      "2057    2015.583392\n",
      "2058   -2361.325235\n",
      "2059   -1442.248199\n",
      "2060     611.666586\n",
      "2061    -824.564949\n",
      "2062     486.368976\n",
      "2063    -163.783964\n",
      "2064     -74.374563\n",
      "2065     697.992601\n",
      "2066     751.550713\n",
      "2067    1359.109364\n",
      "2068    -230.417212\n",
      "2069     847.887656\n",
      "2070    -880.876430\n",
      "2071     750.426382\n",
      "2072    1648.205193\n",
      "2073    -104.262024\n",
      "2074     -52.388635\n",
      "2075     253.546364\n",
      "2076    -179.530721\n",
      "2077    -426.314723\n",
      "2078    -213.887419\n",
      "2079   -1526.843003\n",
      "2080    1238.068898\n",
      "2081   -1394.998231\n",
      "Name: diff_dist, Length: 2082, dtype: float64\n"
     ]
    }
   ],
   "source": [
    "print(df['diff_dist'])"
   ]
  },
  {
   "cell_type": "code",
   "execution_count": 7,
   "metadata": {
    "collapsed": true
   },
   "outputs": [],
   "source": [
    "from pandas import ExcelWriter\n",
    "\n",
    "writer = ExcelWriter('distance1.xlsx')\n",
    "df.to_excel(writer,'Sheet1')\n",
    "writer.save()"
   ]
  },
  {
   "cell_type": "code",
   "execution_count": null,
   "metadata": {
    "collapsed": true
   },
   "outputs": [],
   "source": []
  }
 ],
 "metadata": {
  "kernelspec": {
   "display_name": "Python 2",
   "language": "python",
   "name": "python2"
  },
  "language_info": {
   "codemirror_mode": {
    "name": "ipython",
    "version": 2
   },
   "file_extension": ".py",
   "mimetype": "text/x-python",
   "name": "python",
   "nbconvert_exporter": "python",
   "pygments_lexer": "ipython2",
   "version": "2.7.14"
  }
 },
 "nbformat": 4,
 "nbformat_minor": 2
}
